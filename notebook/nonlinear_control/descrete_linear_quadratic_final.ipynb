{
 "cells": [
  {
   "cell_type": "raw",
   "metadata": {
    "vscode": {
     "languageId": "raw"
    }
   },
   "source": [
    "---\n",
    "title: \"離散LQ制御の例(初期条件+終端条件固定の場合)\"\n",
    "execute: \n",
    "  enabled: true\n",
    "jupyter: python3\n",
    "date: 2024-08-28\n",
    "date-modified: 2024-08-28\n",
    "chapter: 3\n",
    "---"
   ]
  },
  {
   "cell_type": "markdown",
   "metadata": {},
   "source": [
    "## 問題設定\n",
    "\n",
    "状態ベクトルの次元$n=2$, 入力制御ベクトルの次元$m=1$とし, 線形システム\n",
    "\n",
    "$$ x(k+1) = Ax(k) + B u(k)$$\n",
    "\n",
    "を考える. ここで\n",
    "$$\n",
    "A=\\begin{bmatrix} 0 & 1\\\\ -6&-5\\end{bmatrix},\\quad\n",
    "B=\\begin{bmatrix} 0\\\\1 \\end{bmatrix}\n",
    "$$\n",
    "とし, 境界値は\n",
    "$$\n",
    "x(0)=\\begin{bmatrix} -1\\\\ 0\\end{bmatrix}, \\quad x(N)=\\begin{bmatrix} 0\\\\ 0\\end{bmatrix}\n",
    "$$\n",
    "\n",
    "とする. 評価関数は\n",
    "\n",
    "$$\n",
    "J= \\sum_{k=1}^{N-1}\\dfrac12\\left(x^T(k)Qx(k) + u^T(k)Ru(k)\\right).\n",
    "$$\n",
    "\n",
    "において\n",
    "$$\n",
    "Q=\\begin{bmatrix} 13& 0\\\\ 0&1\\end{bmatrix},\\quad\n",
    "R=\\begin{bmatrix} 1 \\end{bmatrix}\n",
    "$$\n",
    "とする. すなわち\n",
    "\n",
    "$$\n",
    "J=\\dfrac12\\sum_{k=1}^{N-1}\\left(13x_1(k)^2 + x_2(k)^2 +u(k)^2\\right)\n",
    "$$\n",
    "\n",
    "を最小化する最適制御を考える."
   ]
  },
  {
   "cell_type": "markdown",
   "metadata": {},
   "source": [
    "オイラー・ラグランジュ方程式は\n",
    "\n",
    "$$\\begin{aligned}\n",
    "&x(k+1) = Ax(k) + Bu(k),\n",
    "\\quad x(0)=x_0, x(N)=x_N\\\\\n",
    "&\\lambda(k) =Qx(k)+A^T \\lambda(k+1) \\\\\n",
    "&u^T(k)R + \\lambda^T(k+1)B=0.\n",
    "\\end{aligned}$$\n",
    "\n",
    "となる. ここで, $x(k)$と$\\lambda(N)$には無関係な行列$S(k),U(k)$として\n",
    "関係式$\\lambda(k)=S(k)x(k)+U(k)\\lambda(N)$を代入して$S(k),U(k)$の条件を求める.\n",
    "\n",
    "まずは$k=N$を代入して$S(N)=0, U(N)=I$であり, 随伴方程式と第3式から$\\lambda(k+1)$を消去して\n",
    "\n",
    "$$\n",
    "u(k) = -(R+B^TS(k+1)B)^{-1}B^T(S(k+1)Ax(k)+U(k+1)\\lambda(N))\n",
    "$$\n",
    "\n",
    "を得る. これを再び随伴方程式に代入することで, \n",
    "\n",
    "$$\\begin{aligned}\n",
    "S(k)x(k)+U(k)\\lambda(N)\n",
    "&=Qx(k)+A^T(S(k+1)(Ax(k)+Bu(k))+U(k+1)\\lambda(N))\\\\\n",
    "&=(Q+A^TS(k+1)A^TS(k+1)A - A^TS(k+1)B(R+B^TS(k+1)B)^{-1}B^TS(k+1)A)x(k)\\\\\n",
    "&\\quad + A^T(1-S(k+1)B(R+B^TS(k+1)B)^{-1}B^T)U(k+1)\\lambda(N)\n",
    "\\end{aligned}$$\n",
    "\n",
    "を得る. $x(k)$と$\\lambda(N)$について係数比較をすることで,\n",
    "\n",
    "$$\\begin{aligned}\n",
    "S(k)\n",
    "&=Q+A^TS(k+1)A\\\\\n",
    "&\\quad - A^TS(k+1)B(R+B^TS(k+1)B)^{-1}B^TS(k+1)A,\\quad k=1,cdots, N-1,\\\\\n",
    "U(k)&=A^T(1-S(k+1)B(R+B^TS(k+1)B)^{-1}B^T)U(k+1),\\quad k=1,cdots, N-1,\\\\\n",
    "S(N)&=0, \\quad U(N)=I\n",
    "\\end{aligned}$$\n",
    "\n",
    "を得る. また, $\\lambda(N)$の値は以下のように逐次代入によって求められる.\n",
    "すなわち$x(k)$と$\\lambda(N)$には無関係な行列$V(k),W(k)$として\n",
    "関係式$x(N)=V(k)x(k)+W(k)\\lambda(N)$を代入して$V(k),W(k)$の条件を求める.\n",
    "\n",
    "まずは$k=N$を代入して$V(N)=I, W(N)=0$であり, 状態方程式と $u=$の式を代入することで, $k=0,\\cdots, N-1$について\n",
    "\n",
    "$$\\begin{aligned}\n",
    "V(k)x(k)+W(k)\\lambda(N)\n",
    "&=V(k+1)(Ax(k)+Bu(k))+U(k+1)\\lambda(N)\\\\\n",
    "&=V(k+1)(1-B(R+B^TS(k+1)B)^{-1}B^TS(k+1))A\\\\\n",
    "&\\quad + W(k+1)\\lambda(N)- V(k+1)(R+B^TS(k+1)B)^{-1}B^TU(k+1)\\lambda(N)\n",
    "\\end{aligned}$$\n",
    "\n",
    "を得る. $x(k)$と$\\lambda(N)$について係数比較をすることで,\n",
    "\n",
    "$$\\begin{aligned}\n",
    "V(k)\n",
    "&=V(k+1)(1-B(R+B^TS(k+1)B)^{-1}B^TS(k+1))A,\\quad k=1,cdots, N-1,\\\\\n",
    "W(k)&=W(k+1)- V(k+1)B(R+B^TS(k+1)B)^{-1}B^TU(k+1),\\quad k=1,cdots, N-1,\\\\\n",
    "V(N)&=I, \\quad W(N)=0\n",
    "\\end{aligned}$$\n",
    "\n",
    "を得る. これを用いると\n",
    "\n",
    "$$\n",
    "\\lambda(N)=W(0)^{-1}(x_N-V(0)x_0)\n",
    "$$\n",
    "\n",
    "として$\\lambda(N)$を定めることができる.\n",
    "\n",
    "を得る. $U(k)=V^T(k)$が成り立つことに注意すると, 以下のステップで最適制御と状態遷移を求めることができる\n",
    "\n",
    "1. $S(k), U(k)$を$k=N,N-1,\\cdots 0$まで求める\n",
    "2. $V(k)=U^T(k)$として, $W(k)$を$k=N,N-1,\\cdots 0$まで求める\n",
    "3. $\\lambda(N)=W(0)^{-1}(x_N-V(0)x_0)$を求める\n",
    "2. $u(k) = -(R+B^TS(k+1)B)^{-1}B^T(S(k+1)Ax(k)+U(k+1)\\lambda(N))$から, $x(0), S(1)$ を用いて$u(0)$を定める\n",
    "3. 状態方程式$x(k+1)=Ax(k)+Bu(k)$から$x(0), u(0)$を用いて$x(1)$を求める\n",
    "4. 以上を繰り返して, $u(1), x(1), u(2),\\cdots$を順次求める"
   ]
  },
  {
   "cell_type": "markdown",
   "metadata": {},
   "source": [
    "\n",
    "### 1. $S(k), U(k)$を$k=N,N-1,\\cdots 0$まで求める"
   ]
  },
  {
   "cell_type": "code",
   "execution_count": 1,
   "metadata": {},
   "outputs": [],
   "source": [
    "import numpy as np\n",
    "\n",
    "# 問題設定\n",
    "dim = 2\n",
    "A = np.array([[0, 1], [-6, -5]], dtype=float)\n",
    "B = np.array([[0], [1]], dtype=float)\n",
    "\n",
    "Q = np.array([[13, 0], [0, 1]], dtype=float)\n",
    "R = np.array([[1]], dtype=float)\n",
    "\n",
    "x_0 = np.array([[-1], [0]], dtype=float)\n",
    "x_N = np.array([[0], [0]], dtype=float)\n",
    "\n",
    "# 解く区間\n",
    "N = 10"
   ]
  },
  {
   "cell_type": "code",
   "execution_count": 2,
   "metadata": {},
   "outputs": [],
   "source": [
    "# リッカチ方程式は時間逆向きに解いてリストに加え, 最後に逆順に並べる\n",
    "S_sols = [np.zeros((dim, dim), dtype=float)]\n",
    "U_sols = [np.identity(dim, dtype=float)]\n",
    "for _ in range(N):\n",
    "    S_next = S_sols[-1]\n",
    "    U_next = U_sols[-1]\n",
    "    Id = np.identity(dim, dtype=float)\n",
    "\n",
    "    S = Q.copy()\n",
    "    S += A.T @ S_next @ A\n",
    "    S -= A.T @ S_next @ B @ np.linalg.inv(R + B.T @ S_next @ B) @ B.T @ S_next @ A\n",
    "    S_sols.append(S)\n",
    "    U = A.T @ (Id - S_next @ B @ np.linalg.inv(R + B.T @ S_next @ B) @ B.T) @ U_next\n",
    "    U_sols.append(U)"
   ]
  },
  {
   "cell_type": "markdown",
   "metadata": {},
   "source": [
    "### 2. $V(k)=U^T(k)$として, $W(k)$を$k=N,N-1,\\cdots 0$まで求める"
   ]
  },
  {
   "cell_type": "code",
   "execution_count": 3,
   "metadata": {},
   "outputs": [],
   "source": [
    "W_sols = [np.zeros((dim, dim), dtype=float)]\n",
    "for k in range(N):\n",
    "    W_next = W_sols[-1]\n",
    "    V_next = U_sols[k + 1].T\n",
    "    S_next = S_sols[k + 1]\n",
    "\n",
    "    W = W_next.copy()\n",
    "    W -= V_next @ B @ np.linalg.inv(R + B.T @ S_next @ B) @ B.T @ V_next.T\n",
    "    W_sols.append(W)\n",
    "\n",
    "S_sols.reverse()\n",
    "U_sols.reverse()\n",
    "W_sols.reverse()"
   ]
  },
  {
   "cell_type": "code",
   "execution_count": 4,
   "metadata": {},
   "outputs": [],
   "source": [
    "lambda_N = np.linalg.inv(W_sols[0]) @ (x_N - U_sols[0].T @ x_0)"
   ]
  },
  {
   "cell_type": "markdown",
   "metadata": {},
   "source": [
    "### 3. $k=0,\\cdots N-1$について$u(k), x(k+1)$を求める\n",
    "\n",
    "リッカチ方程式の解とオイラー・ラグランジュ方程式を用いて最適制御と状態ベクトルを逐次的に求めていく"
   ]
  },
  {
   "cell_type": "code",
   "execution_count": 5,
   "metadata": {},
   "outputs": [],
   "source": [
    "X = [x_0]\n",
    "U = []\n",
    "\n",
    "for k in range(N - 1):\n",
    "    x_k = X[-1]\n",
    "    S_k1 = S_sols[k + 1]\n",
    "    U_k1 = U_sols[k + 1]\n",
    "\n",
    "    u_k = -np.linalg.inv(R + B.T @ S_k1 @ B) @ B.T @ (S_k1 @ A @ x_k + U_k1 @ lambda_N)\n",
    "    U.append(u_k)\n",
    "    X.append(A @ x_k + B * u_k)"
   ]
  },
  {
   "cell_type": "markdown",
   "metadata": {},
   "source": [
    "### 4. 可視化\n",
    "\n",
    "得られた状態ベクトル(左図)と制御入力(右図)をグラフを表示する\n",
    "\n",
    "* 左図より, オーバーシュートは発生しているが抑えられていることがわかる\n",
    "* 状態ベクトル, 制御入力ともに$k=5$あたりで$0$の十分近くに到達している\n",
    "* [離散LQ制御の例](descrete_linear_quadratic.qmd)の場合とほぼ同じ制御ができている"
   ]
  },
  {
   "cell_type": "code",
   "execution_count": 6,
   "metadata": {},
   "outputs": [
    {
     "data": {
      "image/png": "[encoded data removed]",
      "text/plain": [
       "<Figure size 1200x400 with 2 Axes>"
      ]
     },
     "metadata": {},
     "output_type": "display_data"
    }
   ],
   "source": [
    "import matplotlib.pyplot as plt\n",
    "\n",
    "X = np.array(X).reshape(N, 2)\n",
    "U = np.array(U).reshape(N - 1, 1)\n",
    "\n",
    "plt.figure(figsize=(12, 4))\n",
    "\n",
    "plt.subplot(1, 2, 1)\n",
    "for k in range(2):\n",
    "    plt.plot(np.arange(0, N), X[:, k], label=f\"x_{k}\")\n",
    "plt.axhline(0, color=\"black\", linestyle=\"--\", linewidth=0.7)\n",
    "plt.legend()\n",
    "\n",
    "plt.subplot(1, 2, 2)\n",
    "for k in range(1):\n",
    "    plt.plot(np.arange(0, N - 1), U[:, k], marker=\"o\", linestyle=\"--\", label=f\"u_{k}\")\n",
    "plt.axhline(0, color=\"black\", linestyle=\"--\", linewidth=0.7)\n",
    "plt.legend()\n",
    "\n",
    "plt.show()"
   ]
  },
  {
   "cell_type": "code",
   "execution_count": null,
   "metadata": {},
   "outputs": [],
   "source": []
  }
 ],
 "metadata": {
  "kernelspec": {
   "display_name": ".venv",
   "language": "python",
   "name": "python3"
  },
  "language_info": {
   "codemirror_mode": {
    "name": "ipython",
    "version": 3
   },
   "file_extension": ".py",
   "mimetype": "text/x-python",
   "name": "python",
   "nbconvert_exporter": "python",
   "pygments_lexer": "ipython3",
   "version": "3.12.3"
  }
 },
 "nbformat": 4,
 "nbformat_minor": 2
}
